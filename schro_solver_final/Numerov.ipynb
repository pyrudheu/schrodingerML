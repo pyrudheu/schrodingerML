{
 "cells": [
  {
   "cell_type": "code",
   "execution_count": 38,
   "metadata": {},
   "outputs": [],
   "source": [
    "import numpy as np\n",
    "import matplotlib.pyplot as plt\n",
    "import h5py"
   ]
  },
  {
   "cell_type": "code",
   "execution_count": 12,
   "metadata": {},
   "outputs": [
    {
     "name": "stdout",
     "output_type": "stream",
     "text": [
      "(1000,)\n"
     ]
    },
    {
     "data": {
      "image/png": "[encoded data removed]",
      "text/plain": [
       "<Figure size 432x288 with 1 Axes>"
      ]
     },
     "metadata": {
      "needs_background": "light"
     },
     "output_type": "display_data"
    }
   ],
   "source": [
    "N = 1000 # size of output vector\n",
    "x = np.linspace(0,1,N) # x-values to plot\n",
    "def generate_pot():\n",
    "    # N is size of output vector\n",
    "    rand = lambda : np.random.randint(0,100) # random number function\n",
    "\n",
    "    smooth = 5 # smoothness\n",
    "    ## 1 is very spiky, 5 is average, 20 is very smooth ##\n",
    "\n",
    "    f = 0 # initialize vector\n",
    "    r = np.random.randint(10,100) # set random number of curves\n",
    "    for n in range(0,r):\n",
    "        f = f + (5*rand())/r * np.cos( (rand()/smooth) * np.pi * x + rand())\n",
    "        ## make sure amplitude, frequency and phase vary ##\n",
    "    return f\n",
    "    ## make sure amplitude, frequency and phase vary ##\n",
    "\n",
    "#f += 0.5 # make sure function is positive (because of OCD)\n",
    "#plt.axis([0, 1,min(f)-0.2,max(f)+0.2]) # set axes\n",
    "plt.plot(x,generate_pot()) # plot\n",
    "print(np.shape(generate_pot()))\n",
    "#print(f)"
   ]
  },
  {
   "cell_type": "code",
   "execution_count": 13,
   "metadata": {},
   "outputs": [],
   "source": [
    "def total_prob(psi, delta):\n",
    "    prob = 0 # integration of (psi_squared dx)\n",
    "    for i in range(N-2):\n",
    "        prob += ((psi[i] + psi[i+1]) / 2.0) ** 2 * delta\n",
    "        #prob += (psi[i] + psi[i+1])\n",
    "    return prob\n",
    "\n",
    "#def integrate(E, x_low, x_high, delta, V, plot=True):\n",
    "def integrate(E, x_low, x_high, delta, V, plot=True):\n",
    "  #def f(x):\n",
    "   # return 2.0 * (V(x) - E)\n",
    "    y = []\n",
    "    for i in range(N):\n",
    "        yi = 2.0 * (V[i] - E)\n",
    "        y.append(yi)\n",
    "    \n",
    "    delta_sq = delta ** 2\n",
    "    #N = int((x_high - x_low) / delta)\n",
    "\n",
    "    #psi_left = 0.0\n",
    "    # psi_right = 0.0\n",
    "    #psi_first = 1.0\n",
    "\n",
    "    #psi = [None for _ in range(N)]\n",
    "    #psi[0] = psi_left\n",
    "    #psi[1] = psi_first\n",
    "    psi = []\n",
    "    psi.append(0.0)\n",
    "    psi.append(0.0001)\n",
    "\n",
    "    for i in range(2, N-1):\n",
    "       # x_next = i * delta\n",
    "        #x = x_next - delta\n",
    "        #x_prev = x - delta\n",
    "        x = i\n",
    "        x_next = i + 1\n",
    "        x_prev = i - 1\n",
    "\n",
    "        denominator = 1.0 - delta_sq * y[x_next]\n",
    "        c1 = (2.0 - delta_sq * y[x]) / denominator\n",
    "        c2 = (1.0 - delta_sq * y[x_prev]) / denominator\n",
    "\n",
    "        #psi[i] = c1 * psi[i-1] - c2 * psi[i - 2]\n",
    "        psi_new = c1 * psi[i -1] - c2 * psi[i - 2]\n",
    "        psi.append(psi_new)\n",
    "        \n",
    "    \n",
    "  # normalize psi\n",
    "    norm_constant = total_prob(psi, delta) ** 0.5\n",
    "    for i in range(N-1):\n",
    "        psi[i] /= norm_constant\n",
    "\n",
    "    #if plot:\n",
    "     #   plt.clf()\n",
    "      #  plt.plot([x_low + i * delta for i in range(N -1)], psi)\n",
    "       # plt.grid()\n",
    "        #plt.show()\n",
    "\n",
    "    return psi"
   ]
  },
  {
   "cell_type": "code",
   "execution_count": 14,
   "metadata": {},
   "outputs": [
    {
     "name": "stdout",
     "output_type": "stream",
     "text": [
      "1000 1000\n"
     ]
    },
    {
     "data": {
      "image/png": "[encoded data removed]",
      "text/plain": [
       "<Figure size 432x288 with 1 Axes>"
      ]
     },
     "metadata": {
      "needs_background": "light"
     },
     "output_type": "display_data"
    }
   ],
   "source": [
    "def f1(x):\n",
    "    '''\n",
    "    #Potential function in the finite square well.\n",
    "    '''\n",
    "    y=[]\n",
    "    for i in range(N):\n",
    "        if 1/3 <= x[i] <=2/3:\n",
    "            val = 30\n",
    "        elif x[i]<0:\n",
    "            val=500\n",
    "        elif x[i]>1:\n",
    "            val=500\n",
    "        else:\n",
    "            val = 0\n",
    "        y.append(val)\n",
    "    return y\n",
    "plt.plot(x,f1(x))\n",
    "print(len(f1(x)),N)"
   ]
  },
  {
   "cell_type": "code",
   "execution_count": 15,
   "metadata": {},
   "outputs": [],
   "source": [
    "potential = {\n",
    "    \"x_low\": 0.0,\n",
    "    \"x_high\": 1.0,\n",
    "    \"delta\": 1/N,\n",
    "    \"V\": f1(x)\n",
    "}\n",
    "\n",
    "# potential1 = {\n",
    "#     \"x_low\": 0.0,\n",
    "#     \"x_high\": 1.0,\n",
    "#     \"delta\": 1/N,\n",
    "#     \"V\": f\n",
    "# }\n",
    "\n",
    "#integrate(E = 1, **infinite_well)[1000]\n",
    "#integrate(E = 7, **potential)"
   ]
  },
  {
   "cell_type": "code",
   "execution_count": 16,
   "metadata": {},
   "outputs": [],
   "source": [
    "def find_energy(potential):\n",
    "    def find_energy_high(potential):\n",
    "        for i in range(3000):\n",
    "            if integrate(E = i/10, **potential)[N - 2] > 0:\n",
    "                return i/10\n",
    "    def find_energy_low(potential):\n",
    "        for i in range(3000):\n",
    "            if integrate(E = i/10, **potential)[N - 2] < 0:\n",
    "                return i/10\n",
    "\n",
    "    E_high0 = find_energy_high(potential)\n",
    "    E_low0 = find_energy_low(potential)\n",
    "#     print(E_high0)\n",
    "#     print(E_low0)\n",
    "    if E_high0 > E_low0:\n",
    "        E_high=E_high0\n",
    "        for i in range(300):\n",
    "            if integrate(E = E_high0-i/10, **potential)[N-2] < 0:\n",
    "                E_low = E_high0-i/10\n",
    "                return E_high, E_low\n",
    "    if E_low0 > E_high0:\n",
    "        E_low=E_low0\n",
    "        for i in range(300):\n",
    "            if integrate(E = E_low0-i/10, **potential)[N-2] > 0:\n",
    "                E_high = E_low0-i/10\n",
    "                return E_high, E_low"
   ]
  },
  {
   "cell_type": "code",
   "execution_count": 17,
   "metadata": {},
   "outputs": [],
   "source": [
    "def deviation(psi_computed, psi_actual):\n",
    "    return psi_computed - psi_actual\n",
    "\n",
    "def find_energy_eigenstate(E_low, E_high, integration_params, show_plots = False):\n",
    "    psi_right = 0.0\n",
    "\n",
    "    psi_low = integrate(E_low, **integration_params, plot=False)\n",
    "    psi_high = integrate(E_high, **integration_params, plot=False)\n",
    "    dev_low = deviation(psi_low[-1], psi_right)\n",
    "    dev_high = deviation(psi_high[-1], psi_right)\n",
    "\n",
    "    def helper(low, high, d_low, d_high):\n",
    "        E_mid = (low + high) / 2.0\n",
    "        psi_mid = integrate(E_mid, **integration_params, plot=False)\n",
    "        if (high - low) < 1e-8:\n",
    "            return E_mid, [psi_mid]\n",
    "\n",
    "        d_mid = deviation(psi_mid[-1], psi_right)\n",
    "        if (d_low * d_mid) < 0.0:\n",
    "            E_approx, psis = helper(low, E_mid, d_low, d_mid)\n",
    "        else:\n",
    "            E_approx, psis = helper(E_mid, high, d_mid, d_high)\n",
    "\n",
    "        psis = [psi_mid] + psis\n",
    "        return E_approx, psis\n",
    "\n",
    "    E_approx, psis = helper(E_low, E_high, dev_low, dev_high)\n",
    "    psis = [psi_low, psi_high] + psis\n",
    "#     print(\"num iterations =\", len(psis))\n",
    "\n",
    "    xs = [integration_params[\"x_low\"] + i * integration_params[\"delta\"] for i in range(len(psis[-1]))]\n",
    "    if show_plots == True:\n",
    "        for i in range(len(psis)):\n",
    "            plt.plot(xs, psis[i])\n",
    "            plt.grid()\n",
    "        plt.show()\n",
    "\n",
    "        plt.plot(xs, psis[-1])\n",
    "        plt.grid()\n",
    "        plt.show()\n",
    "\n",
    "    return E_approx, psis[-1]"
   ]
  },
  {
   "cell_type": "code",
   "execution_count": 18,
   "metadata": {},
   "outputs": [
    {
     "name": "stdout",
     "output_type": "stream",
     "text": [
      "(18.799999999999997, 18.9)\n"
     ]
    },
    {
     "ename": "NameError",
     "evalue": "name 'potential1' is not defined",
     "output_type": "error",
     "traceback": [
      "\u001b[0;31m---------------------------------------------------------------------------\u001b[0m",
      "\u001b[0;31mNameError\u001b[0m                                 Traceback (most recent call last)",
      "\u001b[0;32m<ipython-input-18-7627220bf108>\u001b[0m in \u001b[0;36m<module>\u001b[0;34m\u001b[0m\n\u001b[1;32m      1\u001b[0m \u001b[0mprint\u001b[0m\u001b[0;34m(\u001b[0m\u001b[0mfind_energy\u001b[0m\u001b[0;34m(\u001b[0m\u001b[0mpotential\u001b[0m\u001b[0;34m)\u001b[0m\u001b[0;34m)\u001b[0m\u001b[0;34m\u001b[0m\u001b[0;34m\u001b[0m\u001b[0m\n\u001b[1;32m      2\u001b[0m \u001b[0mE_approx\u001b[0m\u001b[0;34m,\u001b[0m \u001b[0mpsi\u001b[0m \u001b[0;34m=\u001b[0m \u001b[0mfind_energy_eigenstate\u001b[0m\u001b[0;34m(\u001b[0m\u001b[0mfind_energy\u001b[0m\u001b[0;34m(\u001b[0m\u001b[0mpotential\u001b[0m\u001b[0;34m)\u001b[0m\u001b[0;34m[\u001b[0m\u001b[0;36m1\u001b[0m\u001b[0;34m]\u001b[0m\u001b[0;34m,\u001b[0m \u001b[0mfind_energy\u001b[0m\u001b[0;34m(\u001b[0m\u001b[0mpotential\u001b[0m\u001b[0;34m)\u001b[0m\u001b[0;34m[\u001b[0m\u001b[0;36m0\u001b[0m\u001b[0;34m]\u001b[0m\u001b[0;34m,\u001b[0m \u001b[0mintegration_params\u001b[0m\u001b[0;34m=\u001b[0m\u001b[0mpotential\u001b[0m\u001b[0;34m)\u001b[0m\u001b[0;34m\u001b[0m\u001b[0;34m\u001b[0m\u001b[0m\n\u001b[0;32m----> 3\u001b[0;31m \u001b[0mE_approx\u001b[0m\u001b[0;34m,\u001b[0m \u001b[0mpsi1\u001b[0m \u001b[0;34m=\u001b[0m \u001b[0mfind_energy_eigenstate\u001b[0m\u001b[0;34m(\u001b[0m\u001b[0mfind_energy\u001b[0m\u001b[0;34m(\u001b[0m\u001b[0mpotential1\u001b[0m\u001b[0;34m)\u001b[0m\u001b[0;34m[\u001b[0m\u001b[0;36m1\u001b[0m\u001b[0;34m]\u001b[0m\u001b[0;34m,\u001b[0m \u001b[0mfind_energy\u001b[0m\u001b[0;34m(\u001b[0m\u001b[0mpotential1\u001b[0m\u001b[0;34m)\u001b[0m\u001b[0;34m[\u001b[0m\u001b[0;36m0\u001b[0m\u001b[0;34m]\u001b[0m\u001b[0;34m,\u001b[0m \u001b[0mintegration_params\u001b[0m\u001b[0;34m=\u001b[0m\u001b[0mpotential1\u001b[0m\u001b[0;34m)\u001b[0m\u001b[0;34m\u001b[0m\u001b[0;34m\u001b[0m\u001b[0m\n\u001b[0m",
      "\u001b[0;31mNameError\u001b[0m: name 'potential1' is not defined"
     ]
    }
   ],
   "source": [
    "print(find_energy(potential))\n",
    "E_approx, psi = find_energy_eigenstate(find_energy(potential)[1], find_energy(potential)[0], integration_params=potential)\n",
    "E_approx, psi1 = find_energy_eigenstate(find_energy(potential1)[1], find_energy(potential1)[0], integration_params=potential1)"
   ]
  },
  {
   "cell_type": "code",
   "execution_count": null,
   "metadata": {},
   "outputs": [],
   "source": [
    "x1 = np.linspace(0,1,N-1)\n",
    "plt.plot(x1, psi1)"
   ]
  },
  {
   "cell_type": "code",
   "execution_count": 62,
   "metadata": {
    "scrolled": false
   },
   "outputs": [
    {
     "name": "stdout",
     "output_type": "stream",
     "text": [
      "0 of 1000 done.\n",
      "10 of 1000 done.\n",
      "20 of 1000 done.\n",
      "30 of 1000 done.\n",
      "40 of 1000 done.\n",
      "50 of 1000 done.\n",
      "60 of 1000 done.\n",
      "70 of 1000 done.\n",
      "80 of 1000 done.\n",
      "90 of 1000 done.\n",
      "100 of 1000 done.\n",
      "110 of 1000 done.\n",
      "120 of 1000 done.\n",
      "130 of 1000 done.\n",
      "140 of 1000 done.\n",
      "150 of 1000 done.\n",
      "160 of 1000 done.\n",
      "170 of 1000 done.\n",
      "180 of 1000 done.\n",
      "190 of 1000 done.\n",
      "200 of 1000 done.\n",
      "210 of 1000 done.\n",
      "220 of 1000 done.\n",
      "230 of 1000 done.\n",
      "240 of 1000 done.\n",
      "250 of 1000 done.\n",
      "260 of 1000 done.\n",
      "270 of 1000 done.\n",
      "280 of 1000 done.\n",
      "290 of 1000 done.\n",
      "300 of 1000 done.\n",
      "310 of 1000 done.\n",
      "320 of 1000 done.\n",
      "330 of 1000 done.\n",
      "340 of 1000 done.\n",
      "350 of 1000 done.\n",
      "360 of 1000 done.\n",
      "370 of 1000 done.\n",
      "380 of 1000 done.\n",
      "390 of 1000 done.\n",
      "400 of 1000 done.\n",
      "410 of 1000 done.\n",
      "420 of 1000 done.\n",
      "430 of 1000 done.\n",
      "440 of 1000 done.\n",
      "450 of 1000 done.\n",
      "460 of 1000 done.\n",
      "470 of 1000 done.\n",
      "480 of 1000 done.\n",
      "490 of 1000 done.\n",
      "500 of 1000 done.\n",
      "510 of 1000 done.\n",
      "520 of 1000 done.\n",
      "530 of 1000 done.\n",
      "540 of 1000 done.\n",
      "550 of 1000 done.\n",
      "560 of 1000 done.\n",
      "570 of 1000 done.\n",
      "580 of 1000 done.\n",
      "590 of 1000 done.\n",
      "600 of 1000 done.\n",
      "610 of 1000 done.\n",
      "620 of 1000 done.\n",
      "630 of 1000 done.\n",
      "640 of 1000 done.\n",
      "650 of 1000 done.\n",
      "660 of 1000 done.\n",
      "670 of 1000 done.\n",
      "680 of 1000 done.\n",
      "690 of 1000 done.\n",
      "700 of 1000 done.\n",
      "710 of 1000 done.\n",
      "720 of 1000 done.\n",
      "730 of 1000 done.\n",
      "740 of 1000 done.\n",
      "750 of 1000 done.\n",
      "760 of 1000 done.\n",
      "770 of 1000 done.\n",
      "780 of 1000 done.\n",
      "790 of 1000 done.\n",
      "800 of 1000 done.\n",
      "810 of 1000 done.\n",
      "820 of 1000 done.\n",
      "830 of 1000 done.\n",
      "840 of 1000 done.\n",
      "850 of 1000 done.\n",
      "860 of 1000 done.\n",
      "870 of 1000 done.\n",
      "880 of 1000 done.\n",
      "890 of 1000 done.\n",
      "900 of 1000 done.\n",
      "910 of 1000 done.\n",
      "920 of 1000 done.\n",
      "930 of 1000 done.\n",
      "940 of 1000 done.\n",
      "950 of 1000 done.\n",
      "960 of 1000 done.\n",
      "970 of 1000 done.\n",
      "980 of 1000 done.\n",
      "990 of 1000 done.\n",
      "Totally done.\n"
     ]
    }
   ],
   "source": [
    "def generate_pot_psi_pairs(num,N=1000):\n",
    "    '''\n",
    "    generates potential, wavefunction pairs\n",
    "    \n",
    "    Args:\n",
    "        num: number of labeled data pieces to make\n",
    "    \n",
    "    Kwargs:\n",
    "        N: length of potential & wavefunction vectors (1000 is nice)\n",
    "    \n",
    "    '''\n",
    "    pot_set = np.zeros((num,N))\n",
    "    psi_set = np.zeros((num,N))\n",
    "    en_set = np.zeros((num,1)) \n",
    "    \n",
    "    \n",
    "    for n in range(num):\n",
    "        partial_pot = generate_pot()\n",
    "        full_pot = {\n",
    "                    \"x_low\": 0.0,\n",
    "                    \"x_high\": 1.0,\n",
    "                    \"delta\": 1/N,\n",
    "                    \"V\": partial_pot\n",
    "        }\n",
    "        \n",
    "\n",
    "        E_approx, psi = find_energy_eigenstate(find_energy(full_pot)[1], \n",
    "                                               find_energy(full_pot,)[0], \n",
    "                                               integration_params=full_pot,\n",
    "                                               show_plots = False\n",
    "                                              )\n",
    "        psi_long = np.append(psi,np.array([0]),0)\n",
    "#         #plt.plot(partial_pot,psi_long)\n",
    "#         xs = np.arange(0,1.,1/N)\n",
    "#         plt.plot(xs,partial_pot)\n",
    "#         plt.show()\n",
    "#         plt.plot(xs,psi_long)\n",
    "#         plt.show()\n",
    "\n",
    "        if n%10==0:\n",
    "            print(f'{n} of {num} done.')\n",
    "    \n",
    "    \n",
    "#         data_set.append((full_pot['V'],psi_long,E_approx))\n",
    "        pot_set[n,:] = full_pot['V']\n",
    "        psi_set[n,:] = psi_long\n",
    "        en_set[n,:] = E_approx\n",
    "    print('Totally done.')\n",
    "    return pot_set,psi_set,en_set\n",
    "\n",
    "pot_set,psi_set,en_set = generate_pot_psi_pairs(1000)\n",
    "\n",
    "\n",
    "# print(np.shape(pot_set))\n",
    "# print(pot_set)"
   ]
  },
  {
   "cell_type": "code",
   "execution_count": 56,
   "metadata": {},
   "outputs": [
    {
     "name": "stdout",
     "output_type": "stream",
     "text": [
      "(2, 1000)\n",
      "(2, 1000)\n",
      "[[ 0.00000000e+00  1.10660721e-02  2.21311915e-02 ... -8.62286493e-03\n",
      "   4.13792537e-10  0.00000000e+00]\n",
      " [ 0.00000000e+00  9.84849975e-03  1.96970089e-02 ... -4.69554193e-03\n",
      "  -8.79133412e-11  0.00000000e+00]]\n",
      "[[ 9.08456202]\n",
      " [16.38373506]]\n"
     ]
    }
   ],
   "source": [
    "# print(np.shape(pot_set))\n",
    "# print(np.shape(psi_set))\n",
    "# print(psi_set)\n",
    "# print(en_set)"
   ]
  },
  {
   "cell_type": "code",
   "execution_count": 63,
   "metadata": {
    "scrolled": false
   },
   "outputs": [],
   "source": [
    "# save data. Be careful about overwriting!!\n",
    "# with h5py.File('schro_data.hdf5','w') as f:\n",
    "#     dset0 = f.create_dataset(f\"pot_data\",data=pot_set)\n",
    "#     dset1 = f.create_dataset(f\"psi_data\",data=psi_set)\n",
    "#     dset2 = f.create_dataset(f\"en_data\",data=en_set)\n"
   ]
  },
  {
   "cell_type": "code",
   "execution_count": 61,
   "metadata": {
    "scrolled": true
   },
   "outputs": [
    {
     "name": "stdout",
     "output_type": "stream",
     "text": [
      "(500, 1000)\n",
      "(500, 1)\n"
     ]
    }
   ],
   "source": [
    "with h5py.File('schro_data.hdf5','r') as f:\n",
    "    pot = np.array(f['pot_data'])\n",
    "    psi = np.array(f['psi_data'])\n",
    "    en = np.array(f['en_data'])\n",
    "#     print(psi)\n",
    "    print(np.shape(psi))\n",
    "    print(np.shape(en_set))"
   ]
  },
  {
   "cell_type": "code",
   "execution_count": 26,
   "metadata": {},
   "outputs": [],
   "source": [
    "# # save wavefunctions\n",
    "# with open('wavefunctions.txt', 'w') as f:\n",
    "#     for item in data_points:\n",
    "#         f.write(str([i for i in item[1]]).strip('[]') + '\\n')"
   ]
  },
  {
   "cell_type": "code",
   "execution_count": null,
   "metadata": {},
   "outputs": [],
   "source": [
    "# with open('potential.txt', 'w') as f:\n",
    "#     for item in data_points:\n",
    "#         f.write(str([i for i in item[0]['V']]).strip('[]') + '\\n')"
   ]
  },
  {
   "cell_type": "code",
   "execution_count": null,
   "metadata": {},
   "outputs": [],
   "source": []
  },
  {
   "cell_type": "code",
   "execution_count": null,
   "metadata": {},
   "outputs": [],
   "source": [
    "psif=[]\n",
    "for i in range(N-1):\n",
    "    psif.append(psi[i]-psi1[i])\n",
    "plt.plot(np.linspace(0,1,N-1),psif)"
   ]
  },
  {
   "cell_type": "code",
   "execution_count": null,
   "metadata": {},
   "outputs": [],
   "source": [
    "import numpy as np\n",
    "import matplotlib.pyplot as plt\n",
    "import matplotlib.cm as cm\n",
    "from matplotlib import animation"
   ]
  },
  {
   "cell_type": "code",
   "execution_count": null,
   "metadata": {},
   "outputs": [],
   "source": [
    "psi = []\n",
    "psi.append(0.0)\n",
    "psi.append(0.1)\n",
    "for i in range(2, N-1):\n",
    "   # x_next = i * delta\n",
    "    #x = x_next - delta\n",
    "    #x_prev = x - delta\n",
    "    x = i\n",
    "    x_next = i + 1\n",
    "    x_prev = i - 1\n",
    "\n",
    "    denominator = 1.0 - delta_sq * f[x_next]\n",
    "    c1 = (2.0 - delta_sq * f[x]) / denominator\n",
    "    c2 = (1.0 - delta_sq * f[x_prev]) / denominator\n",
    "\n",
    "    #psi[i] = c1 * psi[i-1] - c2 * psi[i - 2]\n",
    "    psi_new = c1 * psi[i-1] - c2 * psi[i - 2]\n",
    "    psi.append(psi_new)\n",
    "\n",
    "print(len(psi))"
   ]
  },
  {
   "cell_type": "code",
   "execution_count": null,
   "metadata": {},
   "outputs": [],
   "source": [
    "infinite_well = {\n",
    "    \"x_low\": -1.0,\n",
    "    \"x_high\": 1.0,\n",
    "    \"delta\": 0.002,\n",
    "    \"V\": lambda x: 0.0\n",
    "    #\"V\": f\n",
    "}"
   ]
  },
  {
   "cell_type": "code",
   "execution_count": null,
   "metadata": {},
   "outputs": [],
   "source": [
    "for i in range(2, 3):\n",
    "       # x_next = i * delta\n",
    "        #x = x_next - delta\n",
    "        #x_prev = x - delta\n",
    "        delta_sq = (1/N)**2\n",
    "        x = i\n",
    "        x_next = i + 1\n",
    "        x_prev = i - 1\n",
    "        denominator = 1.0 - delta_sq * f[x_next]\n",
    "        c1 = (2.0 - delta_sq * f[x]) / denominator\n",
    "        c2 = (1.0 - delta_sq * f[x_prev]) / denominator\n",
    "\n",
    "        psi[i] = c1 * psi[i-1] - c2 * psi[i - 2]\n",
    "        psi[i] = c1 * psi[i-1] - c2 * psi[i - 2]\n",
    "        print(c1,c2)"
   ]
  },
  {
   "cell_type": "code",
   "execution_count": 8,
   "metadata": {},
   "outputs": [
    {
     "data": {
      "text/plain": [
       "[<matplotlib.lines.Line2D at 0x1c19b9f1048>]"
      ]
     },
     "execution_count": 8,
     "metadata": {},
     "output_type": "execute_result"
    },
    {
     "data": {
      "image/png": "[encoded data removed]",
      "text/plain": [
       "<Figure size 432x288 with 1 Axes>"
      ]
     },
     "metadata": {
      "needs_background": "light"
     },
     "output_type": "display_data"
    }
   ],
   "source": [
    "N = 128\n",
    "x = np.linspace(0,5+1/N,N)\n",
    "f = x ** 2 / 2\n",
    "plt.plot(x,f)"
   ]
  },
  {
   "cell_type": "code",
   "execution_count": null,
   "metadata": {},
   "outputs": [],
   "source": [
    "def find_energy_high(potential):\n",
    "        for i in range(300):\n",
    "            if integrate(E = 3+i/10, **potential)[N - 2] > 0:\n",
    "                return i/10\n",
    "def find_energy_low(potential):\n",
    "    for i in range(300):\n",
    "        if integrate(E =  3+i/10, **potential)[N - 2] < 0:\n",
    "            return i/10\n",
    "f = [0]*128\n",
    "E_high0 = find_energy_high(potential)\n",
    "E_low0 = find_energy_low(potential)\n",
    "print(E_high0, E_low0)\n",
    "      \n",
    "if E_high0 > E_low0:\n",
    "    E_high=E_high0\n",
    "    for i in range(300):\n",
    "        if integrate(E = E_high0-i/10, **potential)[N-2] < 0:\n",
    "            E_low = E_high0-i/10\n",
    "    print(E_high, E_low) \n",
    "if E_low0 > E_high0:\n",
    "    E_low=E_low0\n",
    "    for i in range(300):\n",
    "        if integrate(E = E_low0-i/10, **potential)[N-2] > 0:\n",
    "            E_high = E_low0-i/10\n",
    "    print(E_high, E_low) "
   ]
  },
  {
   "cell_type": "code",
   "execution_count": null,
   "metadata": {},
   "outputs": [],
   "source": []
  }
 ],
 "metadata": {
  "kernelspec": {
   "display_name": "Python 3",
   "language": "python",
   "name": "python3"
  },
  "language_info": {
   "codemirror_mode": {
    "name": "ipython",
    "version": 3
   },
   "file_extension": ".py",
   "mimetype": "text/x-python",
   "name": "python",
   "nbconvert_exporter": "python",
   "pygments_lexer": "ipython3",
   "version": "3.8.5"
  }
 },
 "nbformat": 4,
 "nbformat_minor": 2
}
